{
  "nbformat": 4,
  "nbformat_minor": 0,
  "metadata": {
    "colab": {
      "provenance": [],
      "authorship_tag": "ABX9TyO5oA33GX3Ao73JhXipdRZB",
      "include_colab_link": true
    },
    "kernelspec": {
      "name": "python3",
      "display_name": "Python 3"
    },
    "language_info": {
      "name": "python"
    }
  },
  "cells": [
    {
      "cell_type": "markdown",
      "metadata": {
        "id": "view-in-github",
        "colab_type": "text"
      },
      "source": [
        "<a href=\"https://colab.research.google.com/github/Srujana34/Software-Engineering/blob/main/Software_Engineering.ipynb\" target=\"_parent\"><img src=\"https://colab.research.google.com/assets/colab-badge.svg\" alt=\"Open In Colab\"/></a>"
      ]
    },
    {
      "cell_type": "code",
      "execution_count": null,
      "metadata": {
        "colab": {
          "base_uri": "https://localhost:8080/"
        },
        "id": "hatZay7SuK3r",
        "outputId": "7e04775c-88fc-4b4f-ec53-5bb5be0c2cbc"
      },
      "outputs": [
        {
          "output_type": "stream",
          "name": "stdout",
          "text": [
            "Total event cost: $1500\n"
          ]
        }
      ],
      "source": [
        "# Stage 1: Hardcoded Variables\n",
        "base_cost = 500  # Fixed base cost for the event\n",
        "cost_per_attendee = 50  # Cost per attendee\n",
        "number_of_attendees = 20  # Hardcoded number of attendees\n",
        "\n",
        "# Calculate total cost\n",
        "total_cost = base_cost + (cost_per_attendee * number_of_attendees)\n",
        "print(f\"Total event cost: ${total_cost}\")\n",
        "\n"
      ]
    },
    {
      "cell_type": "code",
      "source": [
        "# Stage 2: Keyboard Input\n",
        "base_cost = float(input(\"Enter the base cost for the event: \"))\n",
        "cost_per_attendee = float(input(\"Enter the cost per attendee: \"))\n",
        "number_of_attendees = int(input(\"Enter the number of attendees: \"))\n",
        "\n",
        "# Calculate total cost\n",
        "total_cost = base_cost + (cost_per_attendee * number_of_attendees)\n",
        "print(f\"Total event cost: ${total_cost}\")\n"
      ],
      "metadata": {
        "colab": {
          "base_uri": "https://localhost:8080/"
        },
        "id": "RYb7mOX70I-Z",
        "outputId": "1b9b4e12-712f-417a-9479-b0ae03152381"
      },
      "execution_count": null,
      "outputs": [
        {
          "output_type": "stream",
          "name": "stdout",
          "text": [
            "Enter the base cost for the event: 500\n",
            "Enter the cost per attendee: 50\n",
            "Enter the number of attendees: 20\n",
            "Total event cost: $1500.0\n"
          ]
        }
      ]
    },
    {
      "cell_type": "code",
      "source": [
        "# Single Set of Input (reusing Stage 2 or 3 logic)\n",
        "base_cost = float(input(\"Enter the base cost for the event: \"))\n",
        "cost_per_attendee = float(input(\"Enter the cost per attendee: \"))\n",
        "number_of_attendees = int(input(\"Enter the number of attendees: \"))\n",
        "\n",
        "# Calculate total cost\n",
        "total_cost = base_cost + (cost_per_attendee * number_of_attendees)\n",
        "print(f\"Total event cost: ${total_cost}\")\n"
      ],
      "metadata": {
        "colab": {
          "base_uri": "https://localhost:8080/"
        },
        "id": "8z0PZbST0ZBD",
        "outputId": "68583b2a-e40a-44ec-bdfb-2520e8521f91"
      },
      "execution_count": null,
      "outputs": [
        {
          "output_type": "stream",
          "name": "stdout",
          "text": [
            "Enter the base cost for the event: 500\n",
            "Enter the cost per attendee: 50\n",
            "Enter the number of attendees: 20\n",
            "Total event cost: $1500.0\n"
          ]
        }
      ]
    },
    {
      "cell_type": "code",
      "source": [
        "# Stage 5: Multiple Sets of Input\n",
        "with open(\"multiple_events.txt\", \"r\") as file:\n",
        "    events = file.readlines()\n",
        "\n",
        "for event in events:\n",
        "    base_cost, cost_per_attendee, number_of_attendees = map(float, event.split())\n",
        "    total_cost = base_cost + (cost_per_attendee * int(number_of_attendees))\n",
        "    print(f\"Event: Base Cost = ${base_cost}, Cost per Attendee = ${cost_per_attendee}, Attendees = {number_of_attendees}\")\n",
        "    print(f\"Total event cost: ${total_cost}\\n\")\n"
      ],
      "metadata": {
        "colab": {
          "base_uri": "https://localhost:8080/"
        },
        "id": "uoAEp-wq0gAt",
        "outputId": "1b72edab-ac34-4299-ba7d-98eeb1e3907e"
      },
      "execution_count": null,
      "outputs": [
        {
          "output_type": "stream",
          "name": "stdout",
          "text": [
            "Event: Base Cost = $200.0, Cost per Attendee = $5000.0, Attendees = 50.0\n",
            "Total event cost: $250200.0\n",
            "\n",
            "Event: Base Cost = $150.0, Cost per Attendee = $4000.0, Attendees = 30.0\n",
            "Total event cost: $120150.0\n",
            "\n",
            "Event: Base Cost = $300.0, Cost per Attendee = $6000.0, Attendees = 70.0\n",
            "Total event cost: $420300.0\n",
            "\n"
          ]
        }
      ]
    },
    {
      "cell_type": "code",
      "source": [
        "try:\n",
        "    base_cost = float(input(\"Enter the base cost for the event: \"))\n",
        "    cost_per_attendee = float(input(\"Enter the cost per attendee: \"))\n",
        "    number_of_attendees = int(input(\"Enter the number of attendees: \"))\n",
        "\n",
        "    if base_cost < 0 or cost_per_attendee < 0 or number_of_attendees < 0:\n",
        "        raise ValueError(\"Values cannot be negative.\")\n",
        "\n",
        "    total_cost = base_cost + (cost_per_attendee * number_of_attendees)\n",
        "    print(f\"Total event cost: ${total_cost}\")\n",
        "except ValueError as e:\n",
        "    print(f\"Input error: {e}\")\n"
      ],
      "metadata": {
        "colab": {
          "base_uri": "https://localhost:8080/"
        },
        "id": "GMpjnZU61j5q",
        "outputId": "d4f54dcc-9adb-442b-9dd8-be684f4bd214"
      },
      "execution_count": null,
      "outputs": [
        {
          "output_type": "stream",
          "name": "stdout",
          "text": [
            "Enter the base cost for the event: 500\n",
            "Enter the cost per attendee: 50\n",
            "Enter the number of attendees: 20\n",
            "Total event cost: $1500.0\n"
          ]
        }
      ]
    },
    {
      "cell_type": "code",
      "source": [
        "# Reading single input set from a file\n",
        "with open(\"single_event.txt\", \"r\") as file:\n",
        "    data = file.readline().strip().split()\n",
        "    cost_per_participant = float(data[0])\n",
        "    fixed_cost = float(data[1])\n",
        "    number_of_participants = int(data[2])\n",
        "\n",
        "# Linear equation for total cost\n",
        "total_cost = (cost_per_participant * number_of_participants) + fixed_cost\n",
        "print(f\"Stage 3 - Total Cost (File Input - Single Set): {total_cost}\")"
      ],
      "metadata": {
        "colab": {
          "base_uri": "https://localhost:8080/"
        },
        "id": "rtR8HJemn1tM",
        "outputId": "db7b6308-fe01-4f89-8d17-e4b1db4b44c6"
      },
      "execution_count": 2,
      "outputs": [
        {
          "output_type": "stream",
          "name": "stdout",
          "text": [
            "Stage 3 - Total Cost (File Input - Single Set): 15000.0\n"
          ]
        }
      ]
    },
    {
      "cell_type": "code",
      "source": [
        "def calculate_budget(m, x, c):\n",
        "    # Calculate the budget using the linear equation\n",
        "    budget = m * x + c\n",
        "    return budget\n",
        "\n",
        "def read_input_from_file(file_name):\n",
        "    try:\n",
        "        # Open the file and read the contents\n",
        "        with open(file_name, 'r') as file:\n",
        "            # Read the single line of input\n",
        "            data = file.readline().strip()\n",
        "            # Split the data into individual components (m, x, c)\n",
        "            m, x, c = map(float, data.split())\n",
        "            return m, x, c\n",
        "    except FileNotFoundError:\n",
        "        print(\"Error: The file does not exist.\")\n",
        "        return None, None, None\n",
        "    except ValueError:\n",
        "        print(\"Error: The data in the file is not in the correct format.\")\n",
        "        return None, None, None\n",
        "\n",
        "def main():\n",
        "    # File containing the input values (m, x, c)\n",
        "    file_name = 'single_event.txt'\n",
        "\n",
        "    # Read values from the file\n",
        "    m, x, c = read_input_from_file(file_name)\n",
        "\n",
        "    if m is not None and x is not None and c is not None:\n",
        "        # Calculate the budget\n",
        "        budget = calculate_budget(m, x, c)\n",
        "        # Display the result\n",
        "        print(f\"The calculated budget for the event is: ${budget:,.2f}\")\n",
        "    else:\n",
        "        print(\"Could not process the budget calculation.\")\n",
        "\n",
        "if __name__ == \"__main__\":\n",
        "    main()\n"
      ],
      "metadata": {
        "colab": {
          "base_uri": "https://localhost:8080/"
        },
        "id": "1um2K9q-vI3l",
        "outputId": "64a280d7-0086-4d1c-ae43-44a2f6c7901f"
      },
      "execution_count": 3,
      "outputs": [
        {
          "output_type": "stream",
          "name": "stdout",
          "text": [
            "The calculated budget for the event is: $1,000,050.00\n"
          ]
        }
      ]
    },
    {
      "cell_type": "code",
      "source": [
        "def calculate_budget(m, x, c):\n",
        "    # Calculate the budget using the linear equation\n",
        "    budget = m * x + c\n",
        "    return budget\n",
        "\n",
        "def main():\n",
        "    # Taking input directly as \"200 5000 50\"\n",
        "    input_data = input(\"Enter the values for number of attendees (x), fixed cost (c), and cost per attendee (m) separated by spaces: \")\n",
        "\n",
        "    try:\n",
        "        # Split the input data into individual values and convert them to float\n",
        "        x, c, m = map(float, input_data.split())\n",
        "\n",
        "        # Calculate the budget\n",
        "        budget = calculate_budget(m, x, c)\n",
        "\n",
        "        # Display the result\n",
        "        print(f\"The calculated budget for the event is: ${budget:,.2f}\")\n",
        "\n",
        "    except ValueError:\n",
        "        print(\"Error: Please enter valid numerical values separated by spaces.\")\n",
        "\n",
        "if __name__ == \"__main__\":\n",
        "    main()\n",
        "\n"
      ],
      "metadata": {
        "colab": {
          "base_uri": "https://localhost:8080/"
        },
        "id": "_aT3SSmmvzlV",
        "outputId": "ed656a6a-bdca-4604-80ea-4a3eccdbb867"
      },
      "execution_count": 6,
      "outputs": [
        {
          "output_type": "stream",
          "name": "stdout",
          "text": [
            "Enter the values for number of attendees (x), fixed cost (c), and cost per attendee (m) separated by spaces: 200 5000 50\n",
            "The calculated budget for the event is: $15,000.00\n"
          ]
        }
      ]
    },
    {
      "cell_type": "code",
      "source": [
        "# Reading single input set from a file\n",
        "with open(\"single_event.txt\", \"r\") as file:\n",
        "    data = file.readline().strip().split()  # Read the first line and split into components\n",
        "    number_of_participants = int(data[0])  # Number of attendees (x)\n",
        "    fixed_cost = float(data[1])            # Fixed organizational cost (c)\n",
        "    cost_per_participant = float(data[2])  # Cost per attendee (m)\n",
        "\n",
        "# Linear equation for total cost\n",
        "total_cost = (cost_per_participant * number_of_participants) + fixed_cost\n",
        "\n",
        "# Output the result\n",
        "print(f\"Stage 3 - Total Cost (File Input - Single Set): ${total_cost:,.2f}\")\n"
      ],
      "metadata": {
        "colab": {
          "base_uri": "https://localhost:8080/"
        },
        "id": "HQCbRndCwYRS",
        "outputId": "b63b3f00-604b-4d0d-de71-16ee09b2bc7b"
      },
      "execution_count": 8,
      "outputs": [
        {
          "output_type": "stream",
          "name": "stdout",
          "text": [
            "Stage 3 - Total Cost (File Input - Single Set): $15,000.00\n"
          ]
        }
      ]
    }
  ]
}