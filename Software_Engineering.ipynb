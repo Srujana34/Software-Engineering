{
  "nbformat": 4,
  "nbformat_minor": 0,
  "metadata": {
    "colab": {
      "provenance": [],
      "authorship_tag": "ABX9TyP7n+808kQN7oh7qrjjdhAG",
      "include_colab_link": true
    },
    "kernelspec": {
      "name": "python3",
      "display_name": "Python 3"
    },
    "language_info": {
      "name": "python"
    }
  },
  "cells": [
    {
      "cell_type": "markdown",
      "metadata": {
        "id": "view-in-github",
        "colab_type": "text"
      },
      "source": [
        "<a href=\"https://colab.research.google.com/github/Srujana34/Software-Engineering/blob/main/Software_Engineering.ipynb\" target=\"_parent\"><img src=\"https://colab.research.google.com/assets/colab-badge.svg\" alt=\"Open In Colab\"/></a>"
      ]
    },
    {
      "cell_type": "code",
      "execution_count": 2,
      "metadata": {
        "colab": {
          "base_uri": "https://localhost:8080/"
        },
        "id": "cS0H_fJS-voI",
        "outputId": "92bbe6b9-4e33-455e-c067-992fe7980213"
      },
      "outputs": [
        {
          "output_type": "stream",
          "name": "stdout",
          "text": [
            "Stage 3 - Total Cost (File Input - Single Set): $15,000.00\n"
          ]
        }
      ],
      "source": [
        "# Reading single input set from a file\n",
        "with open(\"single_event.txt\", \"r\") as file:\n",
        "    data = file.readline().strip().split()  # Read the first line and split into components\n",
        "    number_of_participants = int(data[0])  # Number of attendees (x)\n",
        "    fixed_cost = float(data[1])            # Fixed organizational cost (c)\n",
        "    cost_per_participant = float(data[2])  # Cost per attendee (m)\n",
        "\n",
        "# Linear equation for total cost\n",
        "total_cost = (cost_per_participant * number_of_participants) + fixed_cost\n",
        "\n",
        "# Output the result\n",
        "print(f\"Stage 3 - Total Cost (File Input - Single Set): ${total_cost:,.2f}\")"
      ]
    }
  ]
}